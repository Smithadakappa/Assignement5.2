{
 "cells": [
  {
   "cell_type": "code",
   "execution_count": 2,
   "metadata": {},
   "outputs": [
    {
     "name": "stdout",
     "output_type": "stream",
     "text": [
      "Americans Play Baseball.\n",
      "Americans Play Cricket.\n",
      "Americans Watch Baseball.\n",
      "Americans Watch Cricket.\n",
      "Indians Play Baseball.\n",
      "Indians Play Cricket.\n",
      "Indians Watch Baseball.\n",
      "Indians Watch Cricket.\n"
     ]
    }
   ],
   "source": [
    "subjects=[\"Americans\", \"Indians\"]\n",
    "verbs=[\"Play\", \"Watch\"]\n",
    "objects=[\"Baseball\",\"Cricket\"]\n",
    "for i in range(len(subjects)):\n",
    "    for j in range(len(verbs)):\n",
    "        for k in range(len(objects)):\n",
    "            sentence = \"%s %s %s.\" % (subjects[i], verbs[j], objects[k])\n",
    "            print (sentence)\n"
   ]
  }
 ],
 "metadata": {
  "kernelspec": {
   "display_name": "Python 3",
   "language": "python",
   "name": "python3"
  },
  "language_info": {
   "codemirror_mode": {
    "name": "ipython",
    "version": 3
   },
   "file_extension": ".py",
   "mimetype": "text/x-python",
   "name": "python",
   "nbconvert_exporter": "python",
   "pygments_lexer": "ipython3",
   "version": "3.6.3"
  }
 },
 "nbformat": 4,
 "nbformat_minor": 2
}
